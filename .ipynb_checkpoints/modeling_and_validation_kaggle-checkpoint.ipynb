{
 "cells": [
  {
   "cell_type": "markdown",
   "metadata": {},
   "source": [
    "# Modeling and Validation Kaggle"
   ]
  },
  {
   "cell_type": "code",
   "execution_count": 73,
   "metadata": {},
   "outputs": [],
   "source": [
    "import pandas as pd\n",
    "import numpy as np\n",
    "import matplotlib.pyplot as plt\n",
    "from sklearn.model_selection import cross_val_score\n",
    "from sklearn.preprocessing import StandardScaler\n",
    "from sklearn.linear_model import RidgeCV, LassoCV"
   ]
  },
  {
   "cell_type": "code",
   "execution_count": 74,
   "metadata": {},
   "outputs": [
    {
     "name": "stdout",
     "output_type": "stream",
     "text": [
      "(1872, 1058)\n",
      "(878, 1058)\n"
     ]
    }
   ],
   "source": [
    "train = pd.read_csv('./datasets/train_mod05.csv')\n",
    "test = pd.read_csv('./datasets/test_mod03.csv')\n",
    "\n",
    "print(train.shape)\n",
    "print(test.shape)\n"
   ]
  },
  {
   "cell_type": "code",
   "execution_count": 75,
   "metadata": {},
   "outputs": [],
   "source": [
    "# include all features other than target var and features that could not possible create a better model (PID, Id)\n",
    "features = train.drop(columns=['SalePrice', 'PID', 'Id']).columns\n",
    "\n",
    "X = train[features]\n",
    "# log transform the target var to normalize the distribution of values\n",
    "y = np.log(train['SalePrice'])\n"
   ]
  },
  {
   "cell_type": "code",
   "execution_count": 76,
   "metadata": {},
   "outputs": [],
   "source": [
    "# Standardize X in order to run regularized regression\n",
    "ss = StandardScaler()\n",
    "ss.fit(X)\n",
    "Z = ss.transform(X)\n"
   ]
  },
  {
   "cell_type": "code",
   "execution_count": 78,
   "metadata": {},
   "outputs": [
    {
     "name": "stdout",
     "output_type": "stream",
     "text": [
      "477.27272727272725\n"
     ]
    }
   ],
   "source": [
    "# Run ridge regression with optimized alpha hyperparameter\n",
    "ridge_alphas = np.linspace(450, 550, 100)\n",
    "# set model to optimize root mean squared error\n",
    "ridge_cv = RidgeCV(alphas = ridge_alphas, scoring = 'neg_root_mean_squared_error', cv = 5)\n",
    "model = ridge_cv.fit(Z, y)\n",
    "# print alpha parameter to ensure it is not on the boundry of ridge_alphas\n",
    "print(ridge_cv.alpha_)\n"
   ]
  },
  {
   "cell_type": "code",
   "execution_count": 79,
   "metadata": {},
   "outputs": [
    {
     "data": {
      "image/png": "[encoded data removed]",
      "text/plain": [
       "<Figure size 432x288 with 1 Axes>"
      ]
     },
     "metadata": {
      "needs_background": "light"
     },
     "output_type": "display_data"
    }
   ],
   "source": [
    "# visualize distribution or coefficients, post regularization\n",
    "plt.hist(ridge_cv.coef_, bins=50)\n",
    "plt.ylabel('Count')\n",
    "plt.xlabel('Regularization Coefficient')\n",
    "plt.title('Distribution of Feature Weights');\n"
   ]
  },
  {
   "cell_type": "code",
   "execution_count": 80,
   "metadata": {},
   "outputs": [
    {
     "name": "stdout",
     "output_type": "stream",
     "text": [
      "0.9157228422698445\n",
      "0.014441443553080052\n"
     ]
    }
   ],
   "source": [
    "# model evaluation\n",
    "print(cross_val_score(model, Z, y, cv=5).mean())\n",
    "print(cross_val_score(model, Z, y, cv=5).std())"
   ]
  },
  {
   "cell_type": "code",
   "execution_count": 83,
   "metadata": {},
   "outputs": [
    {
     "data": {
      "text/plain": [
       "180490.54092807294"
      ]
     },
     "execution_count": 83,
     "metadata": {},
     "output_type": "execute_result"
    }
   ],
   "source": [
    "# select corresponding features from test set, standardize values accoring to the fit on the train set\n",
    "Z_test = ss.transform(test[features])\n",
    "# predict sales prices, convert values to original scale from log scale\n",
    "test['SalePrice'] = np.exp(model.predict(Z_test))\n",
    "# eyeball predictions\n",
    "test['SalePrice']"
   ]
  },
  {
   "cell_type": "code",
   "execution_count": 82,
   "metadata": {},
   "outputs": [],
   "source": [
    "# save submission csv\n",
    "test[['Id', 'SalePrice']].to_csv(f'./output/sub46', index=False)\n"
   ]
  }
 ],
 "metadata": {
  "kernelspec": {
   "display_name": "Python 3",
   "language": "python",
   "name": "python3"
  },
  "language_info": {
   "codemirror_mode": {
    "name": "ipython",
    "version": 3
   },
   "file_extension": ".py",
   "mimetype": "text/x-python",
   "name": "python",
   "nbconvert_exporter": "python",
   "pygments_lexer": "ipython3",
   "version": "3.7.6"
  }
 },
 "nbformat": 4,
 "nbformat_minor": 4
}
