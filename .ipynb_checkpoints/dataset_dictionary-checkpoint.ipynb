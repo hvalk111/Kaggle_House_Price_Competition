{
 "cells": [
  {
   "cell_type": "markdown",
   "metadata": {},
   "source": [
    "# Datasets"
   ]
  },
  {
   "cell_type": "markdown",
   "metadata": {},
   "source": [
    "### train.csv, test.csv\n",
    "> Given datasets  \n",
    "> train.shape = (2051, 81)  \n",
    "> test.shape = (878, 80)  \n",
    "> See kaggle description for original features  "
   ]
  },
  {
   "cell_type": "markdown",
   "metadata": {},
   "source": [
    "### train_mod01.csv, test_mod01.csv\n",
    "> 1st modification; only includes features without missing values; categorical features that can be readily dummified and continuous numerical features; train and test have the same number of features because SalePrice column containing NaNs was added to test  \n",
    ">\n",
    "> train.shape = (2051, 190)  \n",
    "> test.shape = (878, 190)  \n"
   ]
  },
  {
   "cell_type": "markdown",
   "metadata": {},
   "source": [
    "### train_mod02.csv, test_mod02.csv\n",
    "> 2nd modification; includes several features with imputed missing values - check data_dict for each var procedure and type; several categorical features changed to ordinal instead of dummifying; train and test have the same number of features because SalePrice column containing NaNs was added to test  \n",
    ">\n",
    "> train.shape = (2051, 238)  \n",
    "> test.shape = (878, 238)   "
   ]
  },
  {
   "cell_type": "markdown",
   "metadata": {},
   "source": [
    "### train_mod03.csv, test_mod03.csv\n",
    "> 3rd modification; same as mod02 with the addition of 820 polynomial variables. Polynomial vars were created for every non-binary column with the exception of ID, PID, and SalePrice\n",
    ">\n",
    "> train.shape = (2051, 1018)  \n",
    "> test.shape = (878, 1018)   "
   ]
  },
  {
   "cell_type": "markdown",
   "metadata": {},
   "source": [
    "### train_mod04.csv\n",
    "> 4th modification; same as mod02 with outliers removed via 2d euclidean distance outlier detector\n",
    ">\n",
    "> train.shape = (1872, 238)   "
   ]
  },
  {
   "cell_type": "markdown",
   "metadata": {},
   "source": [
    "### train_mod05.csv\n",
    "> 5th modification; same as mod04 with the addition of 820 polynomial variables. Polynomial vars were created for every non-binary column with the exception of ID, PID, and SalePrice\n",
    ">\n",
    "> train.shape = (1926, 1018)"
   ]
  },
  {
   "cell_type": "markdown",
   "metadata": {},
   "source": [
    "### train_mod06.csv\n",
    "> 6th modification; similar to mod05 with outliers removed after creating Polynomial vars\n",
    ">\n",
    "> train.shape = (1426, 1018)"
   ]
  }
 ],
 "metadata": {
  "kernelspec": {
   "display_name": "Python 3",
   "language": "python",
   "name": "python3"
  },
  "language_info": {
   "codemirror_mode": {
    "name": "ipython",
    "version": 3
   },
   "file_extension": ".py",
   "mimetype": "text/x-python",
   "name": "python",
   "nbconvert_exporter": "python",
   "pygments_lexer": "ipython3",
   "version": "3.7.6"
  }
 },
 "nbformat": 4,
 "nbformat_minor": 4
}
