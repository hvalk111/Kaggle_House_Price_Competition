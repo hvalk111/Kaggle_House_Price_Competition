{
 "cells": [
  {
   "cell_type": "markdown",
   "metadata": {},
   "source": [
    "# Modeling and Validation Kaggle"
   ]
  },
  {
   "cell_type": "code",
   "execution_count": 28,
   "metadata": {},
   "outputs": [],
   "source": [
    "import pandas as pd\n",
    "import numpy as np\n",
    "import matplotlib.pyplot as plt\n",
    "from sklearn.model_selection import cross_val_score\n",
    "from sklearn.preprocessing import StandardScaler\n",
    "from sklearn.linear_model import RidgeCV, LassoCV"
   ]
  },
  {
   "cell_type": "code",
   "execution_count": 29,
   "metadata": {},
   "outputs": [
    {
     "name": "stdout",
     "output_type": "stream",
     "text": [
      "(1930, 1058)\n",
      "(878, 1058)\n"
     ]
    }
   ],
   "source": [
    "train = pd.read_csv('./datasets/train_mod05.csv')\n",
    "test = pd.read_csv('./datasets/test_mod03.csv')\n",
    "\n",
    "print(train.shape)\n",
    "print(test.shape)\n"
   ]
  },
  {
   "cell_type": "code",
   "execution_count": 30,
   "metadata": {},
   "outputs": [],
   "source": [
    "# include all features other than target var and features that could not possible create a better model (PID, Id)\n",
    "features = train.drop(columns=['SalePrice', 'PID', 'Id']).columns\n",
    "\n",
    "X = train[features]\n",
    "# log transform the target var to normalize the distribution of values\n",
    "y = np.log(train['SalePrice'])\n"
   ]
  },
  {
   "cell_type": "code",
   "execution_count": 31,
   "metadata": {},
   "outputs": [],
   "source": [
    "# Standardize X in order to run regularized regression\n",
    "ss = StandardScaler()\n",
    "ss.fit(X)\n",
    "Z = ss.transform(X)\n"
   ]
  },
  {
   "cell_type": "code",
   "execution_count": 32,
   "metadata": {},
   "outputs": [
    {
     "name": "stdout",
     "output_type": "stream",
     "text": [
      "563.6363636363636\n"
     ]
    }
   ],
   "source": [
    "# Run ridge regression with optimized alpha hyperparameter\n",
    "ridge_alphas = np.linspace(200, 800, 100)\n",
    "# set model to optimize root mean squared error\n",
    "ridge_cv = RidgeCV(alphas = ridge_alphas, scoring = 'neg_root_mean_squared_error', cv = 5)\n",
    "model = ridge_cv.fit(Z, y)\n",
    "# print alpha parameter to ensure it is not on the boundry of ridge_alphas\n",
    "print(ridge_cv.alpha_)\n"
   ]
  },
  {
   "cell_type": "code",
   "execution_count": 33,
   "metadata": {},
   "outputs": [
    {
     "data": {
      "image/png": "[encoded data removed]",
      "text/plain": [
       "<Figure size 432x288 with 1 Axes>"
      ]
     },
     "metadata": {
      "needs_background": "light"
     },
     "output_type": "display_data"
    }
   ],
   "source": [
    "# visualize distribution or coefficients, post regularization\n",
    "plt.hist(ridge_cv.coef_, bins=50)\n",
    "plt.ylabel('Count')\n",
    "plt.xlabel('Regularization Coefficient')\n",
    "plt.title('Distribution of Feature Weights');\n"
   ]
  },
  {
   "cell_type": "code",
   "execution_count": 34,
   "metadata": {},
   "outputs": [
    {
     "name": "stdout",
     "output_type": "stream",
     "text": [
      "0.9172200371951545\n",
      "0.012706525976493088\n"
     ]
    }
   ],
   "source": [
    "# model evaluation\n",
    "print(cross_val_score(model, Z, y, cv=5).mean())\n",
    "print(cross_val_score(model, Z, y, cv=5).std())"
   ]
  },
  {
   "cell_type": "code",
   "execution_count": 35,
   "metadata": {},
   "outputs": [
    {
     "data": {
      "text/plain": [
       "0      147685.413289\n",
       "1      157253.396984\n",
       "2      217337.353079\n",
       "3      100089.546202\n",
       "4      172686.922585\n",
       "           ...      \n",
       "873    187366.221970\n",
       "874    219049.335917\n",
       "875    126001.656625\n",
       "876    117441.985082\n",
       "877    128620.237424\n",
       "Name: SalePrice, Length: 878, dtype: float64"
      ]
     },
     "execution_count": 35,
     "metadata": {},
     "output_type": "execute_result"
    }
   ],
   "source": [
    "# select corresponding features from test set, standardize values accoring to the fit on the train set\n",
    "Z_test = ss.transform(test[features])\n",
    "# predict sales prices, convert values to original scale from log scale\n",
    "test['SalePrice'] = np.exp(model.predict(Z_test))\n",
    "# eyeball predictions\n",
    "test['SalePrice']"
   ]
  },
  {
   "cell_type": "code",
   "execution_count": 36,
   "metadata": {},
   "outputs": [],
   "source": [
    "# save submission csv\n",
    "test[['Id', 'SalePrice']].to_csv(f'./output/sub48', index=False)\n"
   ]
  }
 ],
 "metadata": {
  "kernelspec": {
   "display_name": "Python 3",
   "language": "python",
   "name": "python3"
  }
 },
 "nbformat": 4,
 "nbformat_minor": 4
}
